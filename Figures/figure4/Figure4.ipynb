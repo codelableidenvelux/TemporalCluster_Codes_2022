{
 "cells": [
  {
   "cell_type": "code",
   "execution_count": 1,
   "metadata": {},
   "outputs": [],
   "source": [
    "%reload_ext autoreload\n",
    "%autoreload 2\n",
    "import tie.dbutils as db\n",
    "import tie.utils as qa\n",
    "import pandas as pd\n",
    "from scipy.io import savemat, loadmat\n",
    "import json\n",
    "from tqdm import tqdm\n",
    "import os\n",
    "from collections import Counter\n",
    "import matplotlib.pyplot as plt\n",
    "%matplotlib inline\n",
    "from matplotlib import rc\n",
    "import numpy as np\n",
    "import matplotlib\n",
    "from mpl_toolkits.axes_grid1 import make_axes_locatable\n",
    "from matplotlib.colors import DivergingNorm, TwoSlopeNorm\n",
    "from statsmodels.stats.multitest import fdrcorrection\n",
    "import matplotlib.patches as patches"
   ]
  },
  {
   "cell_type": "code",
   "execution_count": 2,
   "metadata": {},
   "outputs": [],
   "source": [
    "rc('font', **{'family':'sans-serif',\n",
    "              'sans-serif':['Helvetica']})\n",
    "FONT_SIZE = 25\n",
    "params = {'axes.labelsize': FONT_SIZE,\n",
    "          'axes.titlesize': FONT_SIZE, \n",
    "          'legend.fontsize': FONT_SIZE, \n",
    "          'xtick.labelsize': FONT_SIZE, \n",
    "          'ytick.labelsize': FONT_SIZE}\n",
    "matplotlib.rcParams.update(params)"
   ]
  },
  {
   "cell_type": "markdown",
   "metadata": {},
   "source": [
    "# Panel a"
   ]
  },
  {
   "cell_type": "code",
   "execution_count": 3,
   "metadata": {},
   "outputs": [],
   "source": [
    "res_corsi = loadmat('../../all_corsi_log_v3.mat')['all_corsi'][0]\n",
    "\n",
    "res_2back = loadmat('../../all_2back_log_v3.mat')['all_2back'][0]\n",
    "\n",
    "res_rtime = loadmat('../../all_rtime_log_v3.mat')['all_r_time']\n",
    "\n",
    "res_switch = loadmat('../../all_switch_log_v3.mat')['all_switch']\n",
    "\n",
    "res_sRT = res_rtime[0]\n",
    "res_cRT = res_rtime[1]\n",
    "res_global = res_switch[0]\n",
    "res_local = res_switch[1]\n"
   ]
  },
  {
   "cell_type": "code",
   "execution_count": 7,
   "metadata": {},
   "outputs": [
    {
     "data": {
      "text/plain": [
       "1"
      ]
     },
     "execution_count": 7,
     "metadata": {},
     "output_type": "execute_result"
    }
   ],
   "source": [
    "len(res_sRT[0])"
   ]
  },
  {
   "cell_type": "code",
   "execution_count": null,
   "metadata": {},
   "outputs": [],
   "source": []
  }
 ],
 "metadata": {
  "kernelspec": {
   "display_name": "tf-gpu",
   "language": "python",
   "name": "tf-gpu"
  },
  "language_info": {
   "codemirror_mode": {
    "name": "ipython",
    "version": 3
   },
   "file_extension": ".py",
   "mimetype": "text/x-python",
   "name": "python",
   "nbconvert_exporter": "python",
   "pygments_lexer": "ipython3",
   "version": "3.8.8"
  }
 },
 "nbformat": 4,
 "nbformat_minor": 4
}
