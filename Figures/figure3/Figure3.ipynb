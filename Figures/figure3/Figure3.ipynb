{
 "cells": [
  {
   "cell_type": "code",
   "execution_count": 1,
   "metadata": {},
   "outputs": [],
   "source": [
    "%reload_ext autoreload\n",
    "%autoreload 2\n",
    "import tie.dbutils as db\n",
    "import tie.utils as qa\n",
    "import pandas as pd\n",
    "from scipy.io import savemat, loadmat\n",
    "import json\n",
    "from tqdm import tqdm\n",
    "import os\n",
    "from collections import Counter\n",
    "import matplotlib.pyplot as plt\n",
    "%matplotlib inline\n",
    "from matplotlib import rc\n",
    "import numpy as np\n",
    "import matplotlib\n",
    "from mpl_toolkits.axes_grid1 import make_axes_locatable\n",
    "from matplotlib.colors import DivergingNorm, TwoSlopeNorm\n",
    "from statsmodels.stats.multitest import fdrcorrection\n",
    "import matplotlib.patches as patches"
   ]
  },
  {
   "cell_type": "code",
   "execution_count": 2,
   "metadata": {},
   "outputs": [],
   "source": [
    "rc('font', **{'family':'sans-serif',\n",
    "              'sans-serif':['Helvetica']})\n",
    "FONT_SIZE = 25\n",
    "params = {'axes.labelsize': FONT_SIZE,\n",
    "          'axes.titlesize': FONT_SIZE, \n",
    "          'legend.fontsize': FONT_SIZE, \n",
    "          'xtick.labelsize': FONT_SIZE, \n",
    "          'ytick.labelsize': FONT_SIZE}\n",
    "matplotlib.rcParams.update(params)"
   ]
  },
  {
   "cell_type": "markdown",
   "metadata": {},
   "source": [
    "# Panel a"
   ]
  },
  {
   "cell_type": "code",
   "execution_count": 51,
   "metadata": {},
   "outputs": [
    {
     "name": "stdout",
     "output_type": "stream",
     "text": [
      "(157, 1)\n",
      "(112, 1)\n",
      "(164, 1)\n",
      "(165, 1)\n",
      "(108, 1)\n",
      "(108, 1)\n"
     ]
    }
   ],
   "source": [
    "res_corsi = loadmat('../../all_corsi_log_v3.mat')['all_corsi'][0]\n",
    "_jid = res_corsi[0].flat[0]\n",
    "age_corsi = _jid[3]\n",
    "print(age_corsi.shape)\n",
    "\n",
    "res_2back = loadmat('../../all_2back_log_v3.mat')['all_2back'][0]\n",
    "_jid = res_2back[0].flat[0]\n",
    "age_2back = _jid[3]\n",
    "print(age_2back.shape)\n",
    "\n",
    "res_rtime = loadmat('../../all_rtime_log_v3.mat')['all_r_time']\n",
    "_jid = res_rtime[0][0].flat[0]\n",
    "age_sRT = _jid[3]\n",
    "print(age_sRT.shape)\n",
    "_jid = res_rtime[1][0].flat[0]\n",
    "age_cRT = _jid[3]\n",
    "print(age_cRT.shape)\n",
    "\n",
    "res_switch = loadmat('../../all_switch_log_v3.mat')['all_switch']\n",
    "_jid = res_switch[0][0].flat[0]\n",
    "age_global = _jid[3]\n",
    "print(age_global.shape)\n",
    "_jid = res_switch[1][0].flat[0]\n",
    "age_local = _jid[3]\n",
    "print(age_local.shape)\n",
    "\n",
    "\n",
    "# n_presentations = _jid[0]\n",
    "# print(n_presentations.shape)\n",
    "# val = _jid[1]\n",
    "# residual = _jid[2]\n",
    "# age = _jid[3]\n",
    "# print(age.shape)\n",
    "# gender = _jid[4]\n",
    "# print(gender.shape)\n",
    "# test_vals = _jid[5]\n",
    "# print(test_vals.shape)"
   ]
  },
  {
   "cell_type": "code",
   "execution_count": 46,
   "metadata": {},
   "outputs": [
    {
     "data": {
      "image/png": "[encoded data removed]",
      "text/plain": [
       "<Figure size 1440x360 with 4 Axes>"
      ]
     },
     "metadata": {
      "needs_background": "light"
     },
     "output_type": "display_data"
    }
   ],
   "source": [
    "fig, ax = plt.subplots(1, 4, figsize=(20, 5), sharex=True, sharey=True)\n",
    "for i, (_title, values) in enumerate(zip(['Reaction time', '2-back', 'Corsi', 'Task switch'], \n",
    "                                         [age_cRT, age_2back, age_corsi, age_global])):  \n",
    "    \n",
    "    ax[i].hist(values, color='tab:purple')\n",
    "    ax[i].set_title(_title)\n",
    "    ax[i].set_xlabel('Age')\n",
    "    ax[i].grid(False)\n",
    "    ax[i].text(20, 36, f\"N = {len(values)}\", fontsize=25)"
   ]
  },
  {
   "cell_type": "markdown",
   "metadata": {},
   "source": [
    "# Panel b"
   ]
  },
  {
   "cell_type": "code",
   "execution_count": 57,
   "metadata": {},
   "outputs": [
    {
     "data": {
      "text/plain": [
       "4"
      ]
     },
     "execution_count": 57,
     "metadata": {},
     "output_type": "execute_result"
    }
   ],
   "source": [
    "res_sRT = res_rtime[0]\n",
    "res_cRT = res_rtime[1]\n",
    "# len(res_cRT)\n",
    "# len(res_cRT[0].flat[0])"
   ]
  },
  {
   "cell_type": "code",
   "execution_count": 59,
   "metadata": {},
   "outputs": [
    {
     "data": {
      "text/plain": [
       "6"
      ]
     },
     "execution_count": 59,
     "metadata": {},
     "output_type": "execute_result"
    }
   ],
   "source": [
    "len(data_it)"
   ]
  },
  {
   "cell_type": "code",
   "execution_count": 58,
   "metadata": {},
   "outputs": [
    {
     "ename": "ValueError",
     "evalue": "cannot reshape array of size 1 into shape (50,50)",
     "output_type": "error",
     "traceback": [
      "\u001b[0;31m---------------------------------------------------------------------------\u001b[0m",
      "\u001b[0;31mValueError\u001b[0m                                Traceback (most recent call last)",
      "\u001b[0;32m<ipython-input-58-fba0f4bee822>\u001b[0m in \u001b[0;36m<module>\u001b[0;34m\u001b[0m\n\u001b[1;32m      9\u001b[0m \u001b[0;34m\u001b[0m\u001b[0m\n\u001b[1;32m     10\u001b[0m     \u001b[0mdata_it\u001b[0m \u001b[0;34m=\u001b[0m \u001b[0mres_cRT\u001b[0m\u001b[0;34m[\u001b[0m\u001b[0mi\u001b[0m\u001b[0;34m]\u001b[0m\u001b[0;34m.\u001b[0m\u001b[0mflat\u001b[0m\u001b[0;34m[\u001b[0m\u001b[0;36m0\u001b[0m\u001b[0;34m]\u001b[0m\u001b[0;34m\u001b[0m\u001b[0;34m\u001b[0m\u001b[0m\n\u001b[0;32m---> 11\u001b[0;31m     \u001b[0mmasks\u001b[0m \u001b[0;34m=\u001b[0m \u001b[0;34m[\u001b[0m\u001b[0mm\u001b[0m\u001b[0;34m[\u001b[0m\u001b[0;36m0\u001b[0m\u001b[0;34m]\u001b[0m\u001b[0;34m.\u001b[0m\u001b[0mreshape\u001b[0m\u001b[0;34m(\u001b[0m\u001b[0;36m50\u001b[0m\u001b[0;34m,\u001b[0m \u001b[0;36m50\u001b[0m\u001b[0;34m)\u001b[0m\u001b[0;34m.\u001b[0m\u001b[0mT\u001b[0m \u001b[0;32mfor\u001b[0m \u001b[0mm\u001b[0m \u001b[0;32min\u001b[0m \u001b[0mdata_it\u001b[0m\u001b[0;34m[\u001b[0m\u001b[0;36m0\u001b[0m\u001b[0;34m]\u001b[0m\u001b[0;34m]\u001b[0m\u001b[0;34m\u001b[0m\u001b[0;34m\u001b[0m\u001b[0m\n\u001b[0m\u001b[1;32m     12\u001b[0m     \u001b[0mmasks_uni\u001b[0m \u001b[0;34m=\u001b[0m \u001b[0mmasks\u001b[0m\u001b[0;34m[\u001b[0m\u001b[0;34m:\u001b[0m\u001b[0;34m-\u001b[0m\u001b[0;36m1\u001b[0m\u001b[0;34m]\u001b[0m\u001b[0;34m\u001b[0m\u001b[0;34m\u001b[0m\u001b[0m\n\u001b[1;32m     13\u001b[0m     \u001b[0mmask_full\u001b[0m \u001b[0;34m=\u001b[0m \u001b[0mmasks\u001b[0m\u001b[0;34m[\u001b[0m\u001b[0;34m-\u001b[0m\u001b[0;36m1\u001b[0m\u001b[0;34m]\u001b[0m\u001b[0;34m\u001b[0m\u001b[0;34m\u001b[0m\u001b[0m\n",
      "\u001b[0;32m<ipython-input-58-fba0f4bee822>\u001b[0m in \u001b[0;36m<listcomp>\u001b[0;34m(.0)\u001b[0m\n\u001b[1;32m      9\u001b[0m \u001b[0;34m\u001b[0m\u001b[0m\n\u001b[1;32m     10\u001b[0m     \u001b[0mdata_it\u001b[0m \u001b[0;34m=\u001b[0m \u001b[0mres_cRT\u001b[0m\u001b[0;34m[\u001b[0m\u001b[0mi\u001b[0m\u001b[0;34m]\u001b[0m\u001b[0;34m.\u001b[0m\u001b[0mflat\u001b[0m\u001b[0;34m[\u001b[0m\u001b[0;36m0\u001b[0m\u001b[0;34m]\u001b[0m\u001b[0;34m\u001b[0m\u001b[0;34m\u001b[0m\u001b[0m\n\u001b[0;32m---> 11\u001b[0;31m     \u001b[0mmasks\u001b[0m \u001b[0;34m=\u001b[0m \u001b[0;34m[\u001b[0m\u001b[0mm\u001b[0m\u001b[0;34m[\u001b[0m\u001b[0;36m0\u001b[0m\u001b[0;34m]\u001b[0m\u001b[0;34m.\u001b[0m\u001b[0mreshape\u001b[0m\u001b[0;34m(\u001b[0m\u001b[0;36m50\u001b[0m\u001b[0;34m,\u001b[0m \u001b[0;36m50\u001b[0m\u001b[0;34m)\u001b[0m\u001b[0;34m.\u001b[0m\u001b[0mT\u001b[0m \u001b[0;32mfor\u001b[0m \u001b[0mm\u001b[0m \u001b[0;32min\u001b[0m \u001b[0mdata_it\u001b[0m\u001b[0;34m[\u001b[0m\u001b[0;36m0\u001b[0m\u001b[0;34m]\u001b[0m\u001b[0;34m]\u001b[0m\u001b[0;34m\u001b[0m\u001b[0;34m\u001b[0m\u001b[0m\n\u001b[0m\u001b[1;32m     12\u001b[0m     \u001b[0mmasks_uni\u001b[0m \u001b[0;34m=\u001b[0m \u001b[0mmasks\u001b[0m\u001b[0;34m[\u001b[0m\u001b[0;34m:\u001b[0m\u001b[0;34m-\u001b[0m\u001b[0;36m1\u001b[0m\u001b[0;34m]\u001b[0m\u001b[0;34m\u001b[0m\u001b[0;34m\u001b[0m\u001b[0m\n\u001b[1;32m     13\u001b[0m     \u001b[0mmask_full\u001b[0m \u001b[0;34m=\u001b[0m \u001b[0mmasks\u001b[0m\u001b[0;34m[\u001b[0m\u001b[0;34m-\u001b[0m\u001b[0;36m1\u001b[0m\u001b[0;34m]\u001b[0m\u001b[0;34m\u001b[0m\u001b[0;34m\u001b[0m\u001b[0m\n",
      "\u001b[0;31mValueError\u001b[0m: cannot reshape array of size 1 into shape (50,50)"
     ]
    },
    {
     "data": {
      "image/png": "[encoded data removed]",
      "text/plain": [
       "<Figure size 1440x720 with 8 Axes>"
      ]
     },
     "metadata": {
      "needs_background": "light"
     },
     "output_type": "display_data"
    }
   ],
   "source": [
    "fig, ax = plt.subplots(2, 4, figsize=(20, 10), sharey=True, sharex=True)\n",
    "\n",
    "labels = ['0.03', '0.1', '1', '4', '20']\n",
    "ticks = np.arange(50)[::10]\n",
    "\n",
    "IDX = 0 # 0 = AGE; 1 = GENDER\n",
    "\n",
    "for i, _title in enumerate(['Full', 'Launcher', 'Social', 'Transition']):\n",
    "\n",
    "    data_it = res_cRT[i].flat[0]\n",
    "    masks = [m[0].reshape(50, 50).T for m in data_it[0]]\n",
    "    masks_uni = masks[:-1]\n",
    "    mask_full = masks[-1]\n",
    "    mdl = data_it[2]\n",
    "    f_full = np.zeros(2500)\n",
    "    r2_full = np.zeros(2500)\n",
    "    p_full = np.zeros(2500)\n",
    "    f_uni = np.zeros((2500, 2))\n",
    "    p_uni = np.zeros((2500, 2))\n",
    "    betas = np.zeros((2500, 3))\n",
    "\n",
    "    # mdl is 2500 long\n",
    "    for j, obj in enumerate(mdl):\n",
    "        pixel = obj.flat[0][0][0]\n",
    "        r2_full[j] = pixel[0][0][0]\n",
    "        f_full[j] = pixel[1][0][0]\n",
    "        p_full[j] = pixel[2][0][0]\n",
    "        betas[j] = pixel[3].squeeze()\n",
    "        continuous = pixel[7][0][0]\n",
    "        f_uni[j] = continuous[0]\n",
    "        p_uni[j] = continuous[1]\n",
    "\n",
    "    k = betas[:, IDX].reshape(50, 50).T  # T cause of matlab\n",
    "    square_f = f_uni[:, IDX].reshape(50, 50).T\n",
    "    square_r2_full = r2_full.reshape(50, 50).T\n",
    "    square_f[square_f < 0] = 0\n",
    "    \n",
    "    im = ax[0][i].imshow(np.sign(masks_uni[IDX]) * np.sqrt(square_f) * np.sign(k), aspect='auto', cmap='seismic', interpolation='none', norm=TwoSlopeNorm(0))\n",
    "#     im = ax[0][i].imshow(np.sign(masks_uni[IDX]) * np.sqrt(square_f) * np.sign(k), aspect='auto', cmap='seismic', interpolation='none')\n",
    "\n",
    "    ax[0][i].invert_yaxis()\n",
    "    ax[0][i].set_xticks(ticks)\n",
    "    ax[0][i].set_xticklabels(labels)\n",
    "    ax[0][i].xaxis.set_tick_params(rotation=45)\n",
    "    ax[0][i].set_yticks(ticks)\n",
    "    ax[0][i].set_yticklabels(labels)\n",
    "#     ax[0][i].set_xlabel('ITI(k) [s]')\n",
    "    ax[0][i].grid(False)\n",
    "    divider = make_axes_locatable(ax[0][i])\n",
    "    cax = divider.new_vertical(size=\"5%\", pad=.1, pack_start=False)\n",
    "    fig.add_axes(cax)\n",
    "    cb = fig.colorbar(im, cax=cax, orientation=\"horizontal\")\n",
    "    cb.ax.xaxis.set_ticks_position('top')\n",
    "    _t = cb.get_ticks()\n",
    "#     cb.set_ticks([0] + list(np.arange(min(_t), max(_t), 2)))\n",
    "    \n",
    "    # R2\n",
    "    im = ax[1][i].imshow(np.sign(mask_full) * square_r2_full, aspect='auto', cmap='GnBu', interpolation='none', norm=TwoSlopeNorm(0))\n",
    "    ax[1][i].invert_yaxis()\n",
    "    ax[1][i].set_xticks(ticks)\n",
    "    ax[1][i].set_xticklabels(labels)\n",
    "    ax[1][i].xaxis.set_tick_params(rotation=45)\n",
    "    ax[1][i].set_yticks(ticks)\n",
    "    ax[1][i].set_yticklabels(labels)\n",
    "    if i == 1:\n",
    "        ax[1][i].set_xlabel('ITI(k) [s]')\n",
    "    ax[1][i].grid(False)\n",
    "    divider = make_axes_locatable(ax[1][i])\n",
    "    cax = divider.new_vertical(size=\"5%\", pad=.1, pack_start=False)\n",
    "    fig.add_axes(cax)\n",
    "    cb = fig.colorbar(im, cax=cax, orientation=\"horizontal\")\n",
    "    cb.ax.xaxis.set_ticks_position('top')\n",
    "    _t = cb.get_ticks()\n",
    "#     _t = cb.set_ticks(np.arange(0.0, max(_t) + .1, .2))\n",
    "    \n",
    "ax[0][0].set_ylabel('ITI(k + 1) [s]');\n",
    "ax[1][0].set_ylabel('ITI(k + 1) [s]');\n",
    "# plt.tight_layout()\n",
    "# if IDX == 0:\n",
    "plt.savefig('figure_2_panel_b_cRT.pdf', transparent=True)\n",
    "# else:\n",
    "#     plt.savefig('figure_1_supplementary_ii.pdf', transparent=True)"
   ]
  },
  {
   "cell_type": "code",
   "execution_count": null,
   "metadata": {},
   "outputs": [],
   "source": []
  },
  {
   "cell_type": "code",
   "execution_count": null,
   "metadata": {},
   "outputs": [],
   "source": [
    "fig, ax = plt.subplots(2, 2, figsize=(20, 10))\n",
    "# df[\"days\"].hist(bins=30, ax=ax[0])\n",
    "full_info[full_info[\"days\"] < 90][\"days\"].hist(bins=np.linspace(0, 90, 5), ax=ax[0][0])\n",
    "full_info[(full_info[\"days\"] >= 90) & (full_info[\"days\"] < 180)][\"days\"].hist(bins=np.linspace(90, 180, 5), ax=ax[0][0])\n",
    "full_info[(full_info[\"days\"] >= 180) & (full_info[\"days\"] < 365)][\"days\"].hist(bins=np.linspace(180, 365, 10), ax=ax[0][0])\n",
    "full_info[full_info[\"days\"] >= 365][\"days\"].hist(bins=np.linspace(365, 545, 10), ax=ax[0][0])\n",
    "\n",
    "ax[0][0].set_xlabel(\"Days\")\n",
    "ax[0][0].set_ylabel(\"# Subjects\")\n",
    "ax[0][0].set_yscale('log')\n",
    "ax[0][0].grid(False)\n",
    "count_days = Counter()\n",
    "count_days[\"n < 3 months\"] = 0\n",
    "count_days[\"3 months < n < 6 months\"] = 0\n",
    "count_days[\"6 months < n < 1 year\"] = 0\n",
    "count_days[\"n > 1 year\"] = 0\n",
    "\n",
    "for i in full_info['days'].values:\n",
    "    if i > 365:\n",
    "        count_days[\"n > 1 year\"] += 1\n",
    "        continue\n",
    "    if i > 180:\n",
    "        count_days[\"6 months < n < 1 year\"] += 1\n",
    "        continue\n",
    "    if i > 90:\n",
    "        count_days[\"3 months < n < 6 months\"] += 1\n",
    "        continue\n",
    "    if i > 30:\n",
    "        count_days[\"n < 3 months\"] += 1\n",
    "        continue\n",
    "labels = list(count_days.keys())\n",
    "sizes = list(count_days.values())\n",
    "explode = (0.1, 0.1, 0.1, 0.1)  \n",
    "\n",
    "ax[0][1].pie(sizes, explode=explode, labels=labels, autopct='%1.1f%%',\n",
    "        shadow=True, startangle=90)\n",
    "ax[0][1].axis('equal');\n",
    "\n",
    "## AGE\n",
    "\n",
    "full_info[full_info[\"age\"] < 20][\"age\"].hist(bins=np.linspace(0, 20, 10), ax=ax[1][0])\n",
    "full_info[(full_info[\"age\"] >= 20) & (full_info[\"age\"] < 40)][\"age\"].hist(bins=np.linspace(20, 40, 10), ax=ax[1][0])\n",
    "full_info[(full_info[\"age\"] >= 40) & (full_info[\"age\"] < 60)][\"age\"].hist(bins=np.linspace(40, 60, 10), ax=ax[1][0])\n",
    "full_info[full_info[\"age\"] >= 60][\"age\"].hist(bins=np.linspace(60, 100, 20), ax=ax[1][0])\n",
    "\n",
    "ax[1][0].set_xlabel(\"Age\")\n",
    "ax[1][0].set_ylabel(\"# Subjects\")\n",
    "# ax[1][0].set_yscale('log')\n",
    "ax[1][0].grid(False)\n",
    "count_days = Counter()\n",
    "count_days[\"< 20\"] = 0\n",
    "count_days[\"20 - 39\"] = 0\n",
    "count_days[\"40 - 59\"] = 0\n",
    "count_days[\"60+\"] = 0\n",
    "\n",
    "for i in full_info['age'].values:\n",
    "    if i >= 60:\n",
    "        count_days[\"60+\"] += 1\n",
    "        continue\n",
    "    if i >= 40:\n",
    "        count_days[\"40 - 59\"] += 1\n",
    "        continue\n",
    "    if i >= 20:\n",
    "        count_days[\"20 - 39\"] += 1\n",
    "        continue\n",
    "    if i > 0:\n",
    "        count_days[\"< 20\"] += 1\n",
    "        continue\n",
    "labels = list(count_days.keys())\n",
    "sizes = list(count_days.values())\n",
    "explode = (0.1, 0.1, 0.1, 0.1)  \n",
    "\n",
    "ax[1][1].pie(sizes, explode=explode, labels=labels, autopct='%1.1f%%',\n",
    "        shadow=True, startangle=90)\n",
    "ax[1][1].axis('equal');\n",
    "\n",
    "plt.tight_layout()\n",
    "plt.savefig('figure_1_panel_a.pdf', transparent=True, bbox_to_inches=True)"
   ]
  }
 ],
 "metadata": {
  "kernelspec": {
   "display_name": "tf-gpu",
   "language": "python",
   "name": "tf-gpu"
  },
  "language_info": {
   "codemirror_mode": {
    "name": "ipython",
    "version": 3
   },
   "file_extension": ".py",
   "mimetype": "text/x-python",
   "name": "python",
   "nbconvert_exporter": "python",
   "pygments_lexer": "ipython3",
   "version": "3.8.8"
  }
 },
 "nbformat": 4,
 "nbformat_minor": 4
}
